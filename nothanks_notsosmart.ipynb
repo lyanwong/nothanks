{
 "cells": [
  {
   "cell_type": "code",
   "execution_count": 11,
   "metadata": {},
   "outputs": [],
   "source": [
    "import random\n",
    "import numpy as np\n",
    "import heapq\n",
    "from tqdm import tqdm\n",
    "import copy"
   ]
  },
  {
   "cell_type": "code",
   "execution_count": 1,
   "metadata": {},
   "outputs": [],
   "source": [
    "class player():\n",
    "    \"\"\"Just to store information\"\"\"\n",
    "    def __init__(self, chip = 11 ):\n",
    "        self.chip = chip\n",
    "        self.card = []\n",
    "    \n",
    "    def __repr__(self):\n",
    "        return f'Chip: {self.chip} | Card owned: {self.card}'\n",
    "    \n",
    "    def action(self, move):\n",
    "        if move == 'take':\n",
    "            self.card.append(self.game.current_card)\n",
    "            self.chip += self.game.chip_in_pot\n",
    "        elif move == 'pass':\n",
    "            self.chip -= 1\n",
    "            self.game.chip_in_pot += 1\n",
    "    \n",
    "    def calculate_score(self):\n",
    "        sorted_card = sorted(self.card)\n",
    "        total_score = 0\n",
    "        if len(sorted_card) == 0:\n",
    "            return self.chip\n",
    "        total_score -= sorted_card[0]\n",
    "        for score, prev_score in zip(sorted_card[1:], sorted_card[:-1]):\n",
    "            if score - prev_score > 1:\n",
    "                total_score -= score\n",
    "        total_score += self.chip\n",
    "        return total_score"
   ]
  },
  {
   "cell_type": "code",
   "execution_count": 3,
   "metadata": {},
   "outputs": [],
   "source": [
    "class game:\n",
    "    full_deck = [i for i in range(3,36)]\n",
    "    \n",
    "    def __init__(self,\n",
    "                 n_player: int = 3,\n",
    "                 n_chip: int = 11,\n",
    "                 n_remove_card: int = 9\n",
    "                 ):\n",
    "        self.n_remove_card = n_remove_card\n",
    "        self.remain_card = game.full_deck\n",
    "        self.played_card = []\n",
    "        self.current_card = self.flip_card()\n",
    "        \n",
    "        self.chip_in_pot = 0\n",
    "        self.turn = 0 # need this to know which player to take\n",
    "        self.n_player = n_player\n",
    "        self.n_chip = n_chip\n",
    "\n",
    "        self.max_score = 1\n",
    "        self.min_score = -1\n",
    "        self.score_range = self.max_score - self.min_score\n",
    "        self.rollout_rule = {'pass': 0.9,\n",
    "                             'take': 0.1}\n",
    "        self.is_continue = True\n",
    "        self.init_player(n_player)\n",
    "    \n",
    "    def __len__(self):\n",
    "        return len(self.remain_card)\n",
    "    \n",
    "    def __str__(self):\n",
    "        return f'Current card: {self.current_card} | Played cards: {self.played_card}'\n",
    "    def __repr__(self):\n",
    "        return f'Current card: {self.current_card} | Played cards: {self.played_card}'\n",
    "\n",
    "    def init_player(self, n_player):\n",
    "        self.players = [player(chip =  self.n_chip) for _ in range(n_player)]\n",
    "        \n",
    "    def set_remain_card(self):\n",
    "        \"\"\"Update list of remaining cards\"\"\"\n",
    "        self.remain_card = [i for i in game.full_deck \n",
    "                            if i not in self.played_card]\n",
    "\n",
    "    def set_removed_card(self):\n",
    "        \"Remove 9 cards\"\n",
    "        self.removed_card = self.get_cards(9)\n",
    "        self.set_remain_card()\n",
    "\n",
    "    def get_cards(self, n):\n",
    "        'Randomize a card, if number of card remained == 9'\n",
    "        if len(self.remain_card) == self.n_remove_card:\n",
    "            return False\n",
    "        card = random.sample(self.remain_card, n)\n",
    "        return card[0] if n == 1 else card\n",
    "    \n",
    "    \n",
    "    def flip_card(self, \n",
    "                card: int = None):\n",
    "        '''Progress the game by flipping a new card'''\n",
    "        if card == None:\n",
    "            card = self.get_cards(1)\n",
    "            if not card:\n",
    "                return card\n",
    "        self.played_card.append(card)\n",
    "        self.set_remain_card()\n",
    "        self.current_card = card\n",
    "        return card\n",
    "    \n",
    "    def calculate_ranking(self):\n",
    "        score_list = np.array([player.calculate_score() for player in self.players])\n",
    "        ranking = score_list.argsort()\n",
    "        step = self.score_range/(self.n_player - 1)\n",
    "        final_score = [self.min_score + step*rank for rank in ranking]\n",
    "        return final_score\n",
    "    \n",
    "    def get_legal_action(self):\n",
    "        if not self.is_continue:\n",
    "            print('Game over, no legal action')\n",
    "            return []\n",
    "        current_player = self.players[self.turn]\n",
    "        if current_player.chip > 0:\n",
    "            return ['pass', 'take']\n",
    "        else:\n",
    "            return ['take']\n",
    "\n",
    "    def next_player(self, move):\n",
    "        \"\"\"get next player if take then turn does not change\"\"\"\n",
    "        if move == 'take':\n",
    "            return self.turn\n",
    "        elif move == 'pass':\n",
    "            return self.turn + 1 if self.turn + 1 < self.n_player else 0\n",
    "            \n",
    "    def action(self, move):\n",
    "        if not self.is_continue:\n",
    "            print('Game over, cannot act')\n",
    "            return False\n",
    "        current_player = self.players[self.turn]\n",
    "        if move == 'take':\n",
    "            current_player.card.append(self.current_card)\n",
    "            current_player.chip += self.chip_in_pot\n",
    "            self.chip_in_pot = 0\n",
    "            is_continue = self.flip_card()\n",
    "            self.is_continue = is_continue\n",
    "            return self.is_continue\n",
    "\n",
    "        elif move == 'pass':\n",
    "            current_player.chip -= 1\n",
    "            self.chip_in_pot += 1\n",
    "            self.turn = self.next_player(move)\n",
    "            return True\n",
    "    \n",
    "    def rollout_policy_rule(self):\n",
    "        legal_action = self.get_legal_action()\n",
    "        weight = [self.rollout_rule.get(i) for i in legal_action]\n",
    "        move = random.choices(legal_action, weight)[0]\n",
    "        return move\n",
    "    \n",
    "    def rollout_policy_1(self):\n",
    "        current_player = self.players[self.turn]\n",
    "        legal_action = self.get_legal_action()\n",
    "        self.chip_in_pot\n",
    "        weight = [self.rollout_rule.get(i) for i in legal_action]\n",
    "        move = random.choices(legal_action, weight)[0]\n",
    "        return move\n",
    "\n",
    "\n",
    "    def self_play(self):\n",
    "        \"\"\"Keeps playing till the game end\n",
    "        This is where you set your rollout policy\n",
    "        \"\"\"\n",
    "        while self.is_continue:\n",
    "            move = self.rollout_policy_rule()\n",
    "#             print(f'''Card: {self.current_card} | Chip in pot: {self.chip_in_pot} | Player: {self.turn} - {self.players[self.turn]}\n",
    "# move: {move}'''\n",
    "# )\n",
    "            self.is_continue = self.action(move)        \n",
    "        score_list = self.calculate_ranking()\n",
    "        return score_list"
   ]
  },
  {
   "cell_type": "code",
   "execution_count": 4,
   "metadata": {},
   "outputs": [],
   "source": [
    "# #test\n",
    "# nothanks = game()\n",
    "# nothanks.set_removed_card()\n",
    "# nothanks.flip_card()\n",
    "# print(nothanks)\n",
    "\n",
    "# while len(nothanks.remain_card) > 0:\n",
    "#     new_card = nothanks.get_cards(1)\n",
    "#     nothanks.flip_card(new_card)\n",
    "#     print(nothanks)\n"
   ]
  },
  {
   "cell_type": "code",
   "execution_count": 5,
   "metadata": {},
   "outputs": [],
   "source": [
    "class game_state:\n",
    "    \"\"\"This class is the node of the tree\"\"\"\n",
    "    def __init__(self, parent = None, game = None, depth = 0):\n",
    "        self.depth = depth\n",
    "        self.win = 0\n",
    "        self.n_explored = 0\n",
    "        self.parent = parent\n",
    "        self.child = [] # (uct, move, next node)\n",
    "        self.game = game\n",
    "        self.turn = game.turn # need this as reference when doing backpropagation\n",
    "\n",
    "    def calculate_uct(self):\n",
    "        \"\"\"Can set your uct policy here\"\"\"\n",
    "        if self.n_explored == 0:\n",
    "            return np.inf\n",
    "        else:\n",
    "            exploitation = self.win/self.n_explored\n",
    "            exploration = (2*np.log(self.parent.n_explored)/self.n_explored)**0.5\n",
    "            return exploitation + exploration\n",
    "        \n",
    "    def get_best_move(self):\n",
    "        win_list = [child_node[-1].win/child_node[-1].n_explored for child_node in self.child]\n",
    "        return self.child[np.argmax(win_list)][1]"
   ]
  },
  {
   "cell_type": "code",
   "execution_count": 6,
   "metadata": {},
   "outputs": [],
   "source": [
    "# class operator:\n",
    "#     \"\"\"supervise the game, tell whose turn it is\"\"\"\n",
    "#     def __init__(self, n_player: int, n_chip: int, game: object):\n",
    "#         \"\"\"n_chip: number of chip for each player\"\"\"\n",
    "#         self.n_player = n_player\n",
    "#         self.n_chip = n_chip # each player\n",
    "#         self.init_player()\n",
    "#         self.min_score = -1\n",
    "#         self.max_score = 1\n",
    "#         self.score_range = self.max_score - self.min_score\n",
    "\n",
    "#     def get_legal_action(self, \n",
    "#                          player: object):\n",
    "#         if player.chip > 0:\n",
    "#             return ['pass', 'take']\n",
    "#         else:\n",
    "#             return ['take']\n",
    "        \n",
    "#     def action(self, game, move):\n",
    "#         # Should make copies here? then return the copies?\n",
    "#         player = game.players[game.turn]\n",
    "#         if move == 'take':\n",
    "#             player.card.append(game.current_card)\n",
    "#             player.chip += game.chip_in_pot\n",
    "#         elif move == 'pass':\n",
    "#             player.chip -= 1\n",
    "#             game.chip_in_pot += 1\n",
    "    \n",
    "#     def next_player(self, game, move):\n",
    "#         \"\"\"get next player if take then turn does not change\"\"\"\n",
    "#         if move == 'take':\n",
    "#             return game.turn\n",
    "#         elif move == 'pass':\n",
    "#             return game.turn + 1 if game.turn + 1 < game.n_player else 0"
   ]
  },
  {
   "cell_type": "code",
   "execution_count": 7,
   "metadata": {},
   "outputs": [],
   "source": [
    "class mcts():\n",
    "    def __init__(self, \n",
    "                 depth = 10, \n",
    "                 branch = 0):\n",
    "        \"\"\"Depth: limit on the number of card flip to look in the future\"\"\"\n",
    "        self.depth = depth\n",
    "        self.branch = branch\n",
    "        self.simulation_iter = 100\n",
    "\n",
    "    def get_best_uct(self, child_list):\n",
    "        index_max = np.argmax([i[0] for i in child_list])\n",
    "        return child_list[index_max]\n",
    "    \n",
    "    def simulation(self, game, iter = 100):\n",
    "        score_list = np.array([0.]*game.n_player)\n",
    "        for _ in range(iter):\n",
    "            game_tmp = copy.deepcopy(game)\n",
    "            # print(f'--------------------------------{game_tmp.is_continue} | {game_tmp}')\n",
    "            \n",
    "            score_list_tmp = game_tmp.self_play()\n",
    "            score_list += score_list_tmp\n",
    "        return score_list\n",
    "\n",
    "\n",
    "    def selection(self, game_node):\n",
    "        game = game_node.game\n",
    "        score_list, total_explored = np.array([0.]*game.n_player), 0\n",
    "\n",
    "        if game_node.depth > self.depth:\n",
    "            return score_list, total_explored\n",
    "\n",
    "        if len(game_node.child) == 0:\n",
    "            # EXPANSION\n",
    "            # if game_node.depth < self.depth: # stop expanding -> switch to simulation\n",
    "            legal_move = game.get_legal_action()\n",
    "            for move in legal_move:     \n",
    "                game_clone = copy.deepcopy(game)\n",
    "                game_clone.action(move)\n",
    "                next_node = game_state(parent = game_node,\n",
    "                                        game = game_clone,\n",
    "                                       depth = game_node.depth + 1 if move == 'take' else game_node.depth)\n",
    "                uct_tmp = next_node.calculate_uct()\n",
    "                heapq.heappush(game_node.child, [uct_tmp, move, next_node])\n",
    "\n",
    "            # SIMULATION\n",
    "            total_explored = 0\n",
    "            for _, _, child in game_node.child:\n",
    "                score_list_tmp = self.simulation(child.game, self.simulation_iter)\n",
    "                \n",
    "                child.n_explored += self.simulation_iter\n",
    "                child.win += score_list_tmp[child.turn]\n",
    "\n",
    "                score_list += score_list_tmp\n",
    "                total_explored += self.simulation_iter\n",
    "            \n",
    "            # Update the current node here too\n",
    "            game_node.n_explored += total_explored\n",
    "            if game_node.parent:\n",
    "                game_node.win += score_list[game_node.parent.turn]\n",
    "            return score_list, total_explored \n",
    "\n",
    "        else:\n",
    "            #SELECTION\n",
    "            for child in game_node.child:\n",
    "                child[0] = child[-1].calculate_uct()\n",
    "            \n",
    "            _, _, next_node = self.get_best_uct(game_node.child)\n",
    "            score_list, total_explored = self.selection(next_node)\n",
    "            \n",
    "            #BACKPROPAGAION\n",
    "            game_node.n_explored += total_explored\n",
    "            if game_node.parent:\n",
    "                game_node.win += score_list[game_node.parent.turn]\n",
    "\n",
    "            return score_list, total_explored"
   ]
  },
  {
   "cell_type": "code",
   "execution_count": 8,
   "metadata": {},
   "outputs": [],
   "source": [
    "# test self play"
   ]
  },
  {
   "cell_type": "code",
   "execution_count": 124,
   "metadata": {},
   "outputs": [],
   "source": [
    "a = game()"
   ]
  },
  {
   "cell_type": "code",
   "execution_count": 125,
   "metadata": {},
   "outputs": [
    {
     "name": "stdout",
     "output_type": "stream",
     "text": [
      "Card: 16 | Chip in pot: 0 | Player: 0 - Chip: 11 | Card owned: []\n",
      "move: pass\n",
      "Card: 16 | Chip in pot: 1 | Player: 1 - Chip: 11 | Card owned: []\n",
      "move: pass\n",
      "Card: 16 | Chip in pot: 2 | Player: 2 - Chip: 11 | Card owned: []\n",
      "move: pass\n",
      "Card: 16 | Chip in pot: 3 | Player: 0 - Chip: 10 | Card owned: []\n",
      "move: pass\n",
      "Card: 16 | Chip in pot: 4 | Player: 1 - Chip: 10 | Card owned: []\n",
      "move: pass\n",
      "Card: 16 | Chip in pot: 5 | Player: 2 - Chip: 10 | Card owned: []\n",
      "move: pass\n",
      "Card: 16 | Chip in pot: 6 | Player: 0 - Chip: 9 | Card owned: []\n",
      "move: pass\n",
      "Card: 16 | Chip in pot: 7 | Player: 1 - Chip: 9 | Card owned: []\n",
      "move: pass\n",
      "Card: 16 | Chip in pot: 8 | Player: 2 - Chip: 9 | Card owned: []\n",
      "move: pass\n",
      "Card: 16 | Chip in pot: 9 | Player: 0 - Chip: 8 | Card owned: []\n",
      "move: pass\n",
      "Card: 16 | Chip in pot: 10 | Player: 1 - Chip: 8 | Card owned: []\n",
      "move: pass\n",
      "Card: 16 | Chip in pot: 11 | Player: 2 - Chip: 8 | Card owned: []\n",
      "move: pass\n",
      "Card: 16 | Chip in pot: 12 | Player: 0 - Chip: 7 | Card owned: []\n",
      "move: pass\n",
      "Card: 16 | Chip in pot: 13 | Player: 1 - Chip: 7 | Card owned: []\n",
      "move: pass\n",
      "Card: 16 | Chip in pot: 14 | Player: 2 - Chip: 7 | Card owned: []\n",
      "move: pass\n",
      "Card: 16 | Chip in pot: 15 | Player: 0 - Chip: 6 | Card owned: []\n",
      "move: pass\n",
      "Card: 16 | Chip in pot: 16 | Player: 1 - Chip: 6 | Card owned: []\n",
      "move: pass\n",
      "Card: 16 | Chip in pot: 17 | Player: 2 - Chip: 6 | Card owned: []\n",
      "move: pass\n",
      "Card: 16 | Chip in pot: 18 | Player: 0 - Chip: 5 | Card owned: []\n",
      "move: pass\n",
      "Card: 16 | Chip in pot: 19 | Player: 1 - Chip: 5 | Card owned: []\n",
      "move: pass\n",
      "Card: 16 | Chip in pot: 20 | Player: 2 - Chip: 5 | Card owned: []\n",
      "move: pass\n",
      "Card: 16 | Chip in pot: 21 | Player: 0 - Chip: 4 | Card owned: []\n",
      "move: pass\n",
      "Card: 16 | Chip in pot: 22 | Player: 1 - Chip: 4 | Card owned: []\n",
      "move: pass\n",
      "Card: 16 | Chip in pot: 23 | Player: 2 - Chip: 4 | Card owned: []\n",
      "move: pass\n",
      "Card: 16 | Chip in pot: 24 | Player: 0 - Chip: 3 | Card owned: []\n",
      "move: pass\n",
      "Card: 16 | Chip in pot: 25 | Player: 1 - Chip: 3 | Card owned: []\n",
      "move: pass\n",
      "Card: 16 | Chip in pot: 26 | Player: 2 - Chip: 3 | Card owned: []\n",
      "move: pass\n",
      "Card: 16 | Chip in pot: 27 | Player: 0 - Chip: 2 | Card owned: []\n",
      "move: pass\n",
      "Card: 16 | Chip in pot: 28 | Player: 1 - Chip: 2 | Card owned: []\n",
      "move: pass\n",
      "Card: 16 | Chip in pot: 29 | Player: 2 - Chip: 2 | Card owned: []\n",
      "move: pass\n",
      "Card: 16 | Chip in pot: 30 | Player: 0 - Chip: 1 | Card owned: []\n",
      "move: pass\n",
      "Card: 16 | Chip in pot: 31 | Player: 1 - Chip: 1 | Card owned: []\n",
      "move: pass\n",
      "Card: 16 | Chip in pot: 32 | Player: 2 - Chip: 1 | Card owned: []\n",
      "move: pass\n",
      "Card: 16 | Chip in pot: 33 | Player: 0 - Chip: 0 | Card owned: []\n",
      "move: take\n",
      "Card: 19 | Chip in pot: 0 | Player: 0 - Chip: 33 | Card owned: [16]\n",
      "move: pass\n",
      "Card: 19 | Chip in pot: 1 | Player: 1 - Chip: 0 | Card owned: []\n",
      "move: take\n",
      "Card: 13 | Chip in pot: 0 | Player: 1 - Chip: 1 | Card owned: [19]\n",
      "move: pass\n",
      "Card: 13 | Chip in pot: 1 | Player: 2 - Chip: 0 | Card owned: []\n",
      "move: take\n",
      "Card: 21 | Chip in pot: 0 | Player: 2 - Chip: 1 | Card owned: [13]\n",
      "move: pass\n",
      "Card: 21 | Chip in pot: 1 | Player: 0 - Chip: 32 | Card owned: [16]\n",
      "move: pass\n",
      "Card: 21 | Chip in pot: 2 | Player: 1 - Chip: 0 | Card owned: [19]\n",
      "move: take\n",
      "Card: 28 | Chip in pot: 0 | Player: 1 - Chip: 2 | Card owned: [19, 21]\n",
      "move: pass\n",
      "Card: 28 | Chip in pot: 1 | Player: 2 - Chip: 0 | Card owned: [13]\n",
      "move: take\n",
      "Card: 22 | Chip in pot: 0 | Player: 2 - Chip: 1 | Card owned: [13, 28]\n",
      "move: pass\n",
      "Card: 22 | Chip in pot: 1 | Player: 0 - Chip: 31 | Card owned: [16]\n",
      "move: pass\n",
      "Card: 22 | Chip in pot: 2 | Player: 1 - Chip: 1 | Card owned: [19, 21]\n",
      "move: pass\n",
      "Card: 22 | Chip in pot: 3 | Player: 2 - Chip: 0 | Card owned: [13, 28]\n",
      "move: take\n",
      "Card: 10 | Chip in pot: 0 | Player: 2 - Chip: 3 | Card owned: [13, 28, 22]\n",
      "move: pass\n",
      "Card: 10 | Chip in pot: 1 | Player: 0 - Chip: 30 | Card owned: [16]\n",
      "move: pass\n",
      "Card: 10 | Chip in pot: 2 | Player: 1 - Chip: 0 | Card owned: [19, 21]\n",
      "move: take\n",
      "Card: 9 | Chip in pot: 0 | Player: 1 - Chip: 2 | Card owned: [19, 21, 10]\n",
      "move: pass\n",
      "Card: 9 | Chip in pot: 1 | Player: 2 - Chip: 2 | Card owned: [13, 28, 22]\n",
      "move: pass\n",
      "Card: 9 | Chip in pot: 2 | Player: 0 - Chip: 29 | Card owned: [16]\n",
      "move: pass\n",
      "Card: 9 | Chip in pot: 3 | Player: 1 - Chip: 1 | Card owned: [19, 21, 10]\n",
      "move: pass\n",
      "Card: 9 | Chip in pot: 4 | Player: 2 - Chip: 1 | Card owned: [13, 28, 22]\n",
      "move: pass\n",
      "Card: 9 | Chip in pot: 5 | Player: 0 - Chip: 28 | Card owned: [16]\n",
      "move: pass\n",
      "Card: 9 | Chip in pot: 6 | Player: 1 - Chip: 0 | Card owned: [19, 21, 10]\n",
      "move: take\n",
      "Card: 6 | Chip in pot: 0 | Player: 1 - Chip: 6 | Card owned: [19, 21, 10, 9]\n",
      "move: pass\n",
      "Card: 6 | Chip in pot: 1 | Player: 2 - Chip: 0 | Card owned: [13, 28, 22]\n",
      "move: take\n",
      "Card: 12 | Chip in pot: 0 | Player: 2 - Chip: 1 | Card owned: [13, 28, 22, 6]\n",
      "move: pass\n",
      "Card: 12 | Chip in pot: 1 | Player: 0 - Chip: 27 | Card owned: [16]\n",
      "move: pass\n",
      "Card: 12 | Chip in pot: 2 | Player: 1 - Chip: 5 | Card owned: [19, 21, 10, 9]\n",
      "move: pass\n",
      "Card: 12 | Chip in pot: 3 | Player: 2 - Chip: 0 | Card owned: [13, 28, 22, 6]\n",
      "move: take\n",
      "Card: 24 | Chip in pot: 0 | Player: 2 - Chip: 3 | Card owned: [13, 28, 22, 6, 12]\n",
      "move: pass\n",
      "Card: 24 | Chip in pot: 1 | Player: 0 - Chip: 26 | Card owned: [16]\n",
      "move: take\n",
      "Card: 3 | Chip in pot: 0 | Player: 0 - Chip: 27 | Card owned: [16, 24]\n",
      "move: pass\n",
      "Card: 3 | Chip in pot: 1 | Player: 1 - Chip: 4 | Card owned: [19, 21, 10, 9]\n",
      "move: pass\n",
      "Card: 3 | Chip in pot: 2 | Player: 2 - Chip: 2 | Card owned: [13, 28, 22, 6, 12]\n",
      "move: pass\n",
      "Card: 3 | Chip in pot: 3 | Player: 0 - Chip: 26 | Card owned: [16, 24]\n",
      "move: pass\n",
      "Card: 3 | Chip in pot: 4 | Player: 1 - Chip: 3 | Card owned: [19, 21, 10, 9]\n",
      "move: pass\n",
      "Card: 3 | Chip in pot: 5 | Player: 2 - Chip: 1 | Card owned: [13, 28, 22, 6, 12]\n",
      "move: pass\n",
      "Card: 3 | Chip in pot: 6 | Player: 0 - Chip: 25 | Card owned: [16, 24]\n",
      "move: pass\n",
      "Card: 3 | Chip in pot: 7 | Player: 1 - Chip: 2 | Card owned: [19, 21, 10, 9]\n",
      "move: pass\n",
      "Card: 3 | Chip in pot: 8 | Player: 2 - Chip: 0 | Card owned: [13, 28, 22, 6, 12]\n",
      "move: take\n",
      "Card: 32 | Chip in pot: 0 | Player: 2 - Chip: 8 | Card owned: [13, 28, 22, 6, 12, 3]\n",
      "move: pass\n",
      "Card: 32 | Chip in pot: 1 | Player: 0 - Chip: 24 | Card owned: [16, 24]\n",
      "move: pass\n",
      "Card: 32 | Chip in pot: 2 | Player: 1 - Chip: 1 | Card owned: [19, 21, 10, 9]\n",
      "move: pass\n",
      "Card: 32 | Chip in pot: 3 | Player: 2 - Chip: 7 | Card owned: [13, 28, 22, 6, 12, 3]\n",
      "move: pass\n",
      "Card: 32 | Chip in pot: 4 | Player: 0 - Chip: 23 | Card owned: [16, 24]\n",
      "move: pass\n",
      "Card: 32 | Chip in pot: 5 | Player: 1 - Chip: 0 | Card owned: [19, 21, 10, 9]\n",
      "move: take\n",
      "Card: 20 | Chip in pot: 0 | Player: 1 - Chip: 5 | Card owned: [19, 21, 10, 9, 32]\n",
      "move: pass\n",
      "Card: 20 | Chip in pot: 1 | Player: 2 - Chip: 6 | Card owned: [13, 28, 22, 6, 12, 3]\n",
      "move: pass\n",
      "Card: 20 | Chip in pot: 2 | Player: 0 - Chip: 22 | Card owned: [16, 24]\n",
      "move: pass\n",
      "Card: 20 | Chip in pot: 3 | Player: 1 - Chip: 4 | Card owned: [19, 21, 10, 9, 32]\n",
      "move: pass\n",
      "Card: 20 | Chip in pot: 4 | Player: 2 - Chip: 5 | Card owned: [13, 28, 22, 6, 12, 3]\n",
      "move: pass\n",
      "Card: 20 | Chip in pot: 5 | Player: 0 - Chip: 21 | Card owned: [16, 24]\n",
      "move: pass\n",
      "Card: 20 | Chip in pot: 6 | Player: 1 - Chip: 3 | Card owned: [19, 21, 10, 9, 32]\n",
      "move: pass\n",
      "Card: 20 | Chip in pot: 7 | Player: 2 - Chip: 4 | Card owned: [13, 28, 22, 6, 12, 3]\n",
      "move: pass\n",
      "Card: 20 | Chip in pot: 8 | Player: 0 - Chip: 20 | Card owned: [16, 24]\n",
      "move: pass\n",
      "Card: 20 | Chip in pot: 9 | Player: 1 - Chip: 2 | Card owned: [19, 21, 10, 9, 32]\n",
      "move: pass\n",
      "Card: 20 | Chip in pot: 10 | Player: 2 - Chip: 3 | Card owned: [13, 28, 22, 6, 12, 3]\n",
      "move: pass\n",
      "Card: 20 | Chip in pot: 11 | Player: 0 - Chip: 19 | Card owned: [16, 24]\n",
      "move: pass\n",
      "Card: 20 | Chip in pot: 12 | Player: 1 - Chip: 1 | Card owned: [19, 21, 10, 9, 32]\n",
      "move: pass\n",
      "Card: 20 | Chip in pot: 13 | Player: 2 - Chip: 2 | Card owned: [13, 28, 22, 6, 12, 3]\n",
      "move: pass\n",
      "Card: 20 | Chip in pot: 14 | Player: 0 - Chip: 18 | Card owned: [16, 24]\n",
      "move: pass\n",
      "Card: 20 | Chip in pot: 15 | Player: 1 - Chip: 0 | Card owned: [19, 21, 10, 9, 32]\n",
      "move: take\n",
      "Card: 34 | Chip in pot: 0 | Player: 1 - Chip: 15 | Card owned: [19, 21, 10, 9, 32, 20]\n",
      "move: pass\n",
      "Card: 34 | Chip in pot: 1 | Player: 2 - Chip: 1 | Card owned: [13, 28, 22, 6, 12, 3]\n",
      "move: pass\n",
      "Card: 34 | Chip in pot: 2 | Player: 0 - Chip: 17 | Card owned: [16, 24]\n",
      "move: pass\n",
      "Card: 34 | Chip in pot: 3 | Player: 1 - Chip: 14 | Card owned: [19, 21, 10, 9, 32, 20]\n",
      "move: pass\n",
      "Card: 34 | Chip in pot: 4 | Player: 2 - Chip: 0 | Card owned: [13, 28, 22, 6, 12, 3]\n",
      "move: take\n",
      "Card: 15 | Chip in pot: 0 | Player: 2 - Chip: 4 | Card owned: [13, 28, 22, 6, 12, 3, 34]\n",
      "move: pass\n",
      "Card: 15 | Chip in pot: 1 | Player: 0 - Chip: 16 | Card owned: [16, 24]\n",
      "move: pass\n",
      "Card: 15 | Chip in pot: 2 | Player: 1 - Chip: 13 | Card owned: [19, 21, 10, 9, 32, 20]\n",
      "move: take\n",
      "Card: 4 | Chip in pot: 0 | Player: 1 - Chip: 15 | Card owned: [19, 21, 10, 9, 32, 20, 15]\n",
      "move: pass\n",
      "Card: 4 | Chip in pot: 1 | Player: 2 - Chip: 3 | Card owned: [13, 28, 22, 6, 12, 3, 34]\n",
      "move: pass\n",
      "Card: 4 | Chip in pot: 2 | Player: 0 - Chip: 15 | Card owned: [16, 24]\n",
      "move: pass\n",
      "Card: 4 | Chip in pot: 3 | Player: 1 - Chip: 14 | Card owned: [19, 21, 10, 9, 32, 20, 15]\n",
      "move: pass\n",
      "Card: 4 | Chip in pot: 4 | Player: 2 - Chip: 2 | Card owned: [13, 28, 22, 6, 12, 3, 34]\n",
      "move: pass\n",
      "Card: 4 | Chip in pot: 5 | Player: 0 - Chip: 14 | Card owned: [16, 24]\n",
      "move: pass\n",
      "Card: 4 | Chip in pot: 6 | Player: 1 - Chip: 13 | Card owned: [19, 21, 10, 9, 32, 20, 15]\n",
      "move: pass\n",
      "Card: 4 | Chip in pot: 7 | Player: 2 - Chip: 1 | Card owned: [13, 28, 22, 6, 12, 3, 34]\n",
      "move: pass\n",
      "Card: 4 | Chip in pot: 8 | Player: 0 - Chip: 13 | Card owned: [16, 24]\n",
      "move: pass\n",
      "Card: 4 | Chip in pot: 9 | Player: 1 - Chip: 12 | Card owned: [19, 21, 10, 9, 32, 20, 15]\n",
      "move: pass\n",
      "Card: 4 | Chip in pot: 10 | Player: 2 - Chip: 0 | Card owned: [13, 28, 22, 6, 12, 3, 34]\n",
      "move: take\n",
      "Card: 23 | Chip in pot: 0 | Player: 2 - Chip: 10 | Card owned: [13, 28, 22, 6, 12, 3, 34, 4]\n",
      "move: pass\n",
      "Card: 23 | Chip in pot: 1 | Player: 0 - Chip: 12 | Card owned: [16, 24]\n",
      "move: pass\n",
      "Card: 23 | Chip in pot: 2 | Player: 1 - Chip: 11 | Card owned: [19, 21, 10, 9, 32, 20, 15]\n",
      "move: pass\n",
      "Card: 23 | Chip in pot: 3 | Player: 2 - Chip: 9 | Card owned: [13, 28, 22, 6, 12, 3, 34, 4]\n",
      "move: pass\n",
      "Card: 23 | Chip in pot: 4 | Player: 0 - Chip: 11 | Card owned: [16, 24]\n",
      "move: pass\n",
      "Card: 23 | Chip in pot: 5 | Player: 1 - Chip: 10 | Card owned: [19, 21, 10, 9, 32, 20, 15]\n",
      "move: pass\n",
      "Card: 23 | Chip in pot: 6 | Player: 2 - Chip: 8 | Card owned: [13, 28, 22, 6, 12, 3, 34, 4]\n",
      "move: pass\n",
      "Card: 23 | Chip in pot: 7 | Player: 0 - Chip: 10 | Card owned: [16, 24]\n",
      "move: take\n",
      "Card: 7 | Chip in pot: 0 | Player: 0 - Chip: 17 | Card owned: [16, 24, 23]\n",
      "move: pass\n",
      "Card: 7 | Chip in pot: 1 | Player: 1 - Chip: 9 | Card owned: [19, 21, 10, 9, 32, 20, 15]\n",
      "move: pass\n",
      "Card: 7 | Chip in pot: 2 | Player: 2 - Chip: 7 | Card owned: [13, 28, 22, 6, 12, 3, 34, 4]\n",
      "move: pass\n",
      "Card: 7 | Chip in pot: 3 | Player: 0 - Chip: 16 | Card owned: [16, 24, 23]\n",
      "move: take\n",
      "Card: 33 | Chip in pot: 0 | Player: 0 - Chip: 19 | Card owned: [16, 24, 23, 7]\n",
      "move: take\n",
      "Card: 27 | Chip in pot: 0 | Player: 0 - Chip: 19 | Card owned: [16, 24, 23, 7, 33]\n",
      "move: pass\n",
      "Card: 27 | Chip in pot: 1 | Player: 1 - Chip: 8 | Card owned: [19, 21, 10, 9, 32, 20, 15]\n",
      "move: pass\n",
      "Card: 27 | Chip in pot: 2 | Player: 2 - Chip: 6 | Card owned: [13, 28, 22, 6, 12, 3, 34, 4]\n",
      "move: pass\n",
      "Card: 27 | Chip in pot: 3 | Player: 0 - Chip: 18 | Card owned: [16, 24, 23, 7, 33]\n",
      "move: pass\n",
      "Card: 27 | Chip in pot: 4 | Player: 1 - Chip: 7 | Card owned: [19, 21, 10, 9, 32, 20, 15]\n",
      "move: take\n",
      "Card: 26 | Chip in pot: 0 | Player: 1 - Chip: 11 | Card owned: [19, 21, 10, 9, 32, 20, 15, 27]\n",
      "move: pass\n",
      "Card: 26 | Chip in pot: 1 | Player: 2 - Chip: 5 | Card owned: [13, 28, 22, 6, 12, 3, 34, 4]\n",
      "move: pass\n",
      "Card: 26 | Chip in pot: 2 | Player: 0 - Chip: 17 | Card owned: [16, 24, 23, 7, 33]\n",
      "move: pass\n",
      "Card: 26 | Chip in pot: 3 | Player: 1 - Chip: 10 | Card owned: [19, 21, 10, 9, 32, 20, 15, 27]\n",
      "move: pass\n",
      "Card: 26 | Chip in pot: 4 | Player: 2 - Chip: 4 | Card owned: [13, 28, 22, 6, 12, 3, 34, 4]\n",
      "move: pass\n",
      "Card: 26 | Chip in pot: 5 | Player: 0 - Chip: 16 | Card owned: [16, 24, 23, 7, 33]\n",
      "move: pass\n",
      "Card: 26 | Chip in pot: 6 | Player: 1 - Chip: 9 | Card owned: [19, 21, 10, 9, 32, 20, 15, 27]\n",
      "move: pass\n",
      "Card: 26 | Chip in pot: 7 | Player: 2 - Chip: 3 | Card owned: [13, 28, 22, 6, 12, 3, 34, 4]\n",
      "move: pass\n",
      "Card: 26 | Chip in pot: 8 | Player: 0 - Chip: 15 | Card owned: [16, 24, 23, 7, 33]\n",
      "move: pass\n",
      "Card: 26 | Chip in pot: 9 | Player: 1 - Chip: 8 | Card owned: [19, 21, 10, 9, 32, 20, 15, 27]\n",
      "move: pass\n",
      "Card: 26 | Chip in pot: 10 | Player: 2 - Chip: 2 | Card owned: [13, 28, 22, 6, 12, 3, 34, 4]\n",
      "move: pass\n",
      "Card: 26 | Chip in pot: 11 | Player: 0 - Chip: 14 | Card owned: [16, 24, 23, 7, 33]\n",
      "move: take\n",
      "Card: 31 | Chip in pot: 0 | Player: 0 - Chip: 25 | Card owned: [16, 24, 23, 7, 33, 26]\n",
      "move: pass\n",
      "Card: 31 | Chip in pot: 1 | Player: 1 - Chip: 7 | Card owned: [19, 21, 10, 9, 32, 20, 15, 27]\n",
      "move: pass\n",
      "Card: 31 | Chip in pot: 2 | Player: 2 - Chip: 1 | Card owned: [13, 28, 22, 6, 12, 3, 34, 4]\n",
      "move: pass\n",
      "Card: 31 | Chip in pot: 3 | Player: 0 - Chip: 24 | Card owned: [16, 24, 23, 7, 33, 26]\n",
      "move: pass\n",
      "Card: 31 | Chip in pot: 4 | Player: 1 - Chip: 6 | Card owned: [19, 21, 10, 9, 32, 20, 15, 27]\n",
      "move: pass\n",
      "Card: 31 | Chip in pot: 5 | Player: 2 - Chip: 0 | Card owned: [13, 28, 22, 6, 12, 3, 34, 4]\n",
      "move: take\n",
      "Card: 29 | Chip in pot: 0 | Player: 2 - Chip: 5 | Card owned: [13, 28, 22, 6, 12, 3, 34, 4, 31]\n",
      "move: pass\n",
      "Card: 29 | Chip in pot: 1 | Player: 0 - Chip: 23 | Card owned: [16, 24, 23, 7, 33, 26]\n",
      "move: take\n"
     ]
    },
    {
     "data": {
      "text/plain": [
       "[np.float64(1.0), np.float64(-1.0), np.float64(0.0)]"
      ]
     },
     "execution_count": 125,
     "metadata": {},
     "output_type": "execute_result"
    }
   ],
   "source": [
    "a.self_play()"
   ]
  },
  {
   "cell_type": "code",
   "execution_count": 126,
   "metadata": {},
   "outputs": [
    {
     "data": {
      "text/plain": [
       "False"
      ]
     },
     "execution_count": 126,
     "metadata": {},
     "output_type": "execute_result"
    }
   ],
   "source": [
    "a.flip_card()"
   ]
  },
  {
   "cell_type": "code",
   "execution_count": 127,
   "metadata": {},
   "outputs": [
    {
     "name": "stdout",
     "output_type": "stream",
     "text": [
      "Game over, no legal action\n"
     ]
    },
    {
     "data": {
      "text/plain": [
       "[]"
      ]
     },
     "execution_count": 127,
     "metadata": {},
     "output_type": "execute_result"
    }
   ],
   "source": [
    "a.get_legal_action()"
   ]
  },
  {
   "cell_type": "code",
   "execution_count": 136,
   "metadata": {},
   "outputs": [
    {
     "name": "stdout",
     "output_type": "stream",
     "text": [
      "Game over, cannot act\n"
     ]
    },
    {
     "data": {
      "text/plain": [
       "[Chip: 24 | Card owned: [16, 24, 23, 7, 33, 26, 29],\n",
       " Chip: 5 | Card owned: [19, 21, 10, 9, 32, 20, 15, 27],\n",
       " Chip: 4 | Card owned: [13, 28, 22, 6, 12, 3, 34, 4, 31]]"
      ]
     },
     "execution_count": 136,
     "metadata": {},
     "output_type": "execute_result"
    }
   ],
   "source": [
    "a.action('take')\n",
    "a.players"
   ]
  },
  {
   "cell_type": "code",
   "execution_count": 133,
   "metadata": {},
   "outputs": [
    {
     "data": {
      "text/plain": [
       "[16,\n",
       " 19,\n",
       " 13,\n",
       " 21,\n",
       " 28,\n",
       " 22,\n",
       " 10,\n",
       " 9,\n",
       " 6,\n",
       " 12,\n",
       " 24,\n",
       " 3,\n",
       " 32,\n",
       " 20,\n",
       " 34,\n",
       " 15,\n",
       " 4,\n",
       " 23,\n",
       " 7,\n",
       " 33,\n",
       " 27,\n",
       " 26,\n",
       " 31,\n",
       " 29]"
      ]
     },
     "execution_count": 133,
     "metadata": {},
     "output_type": "execute_result"
    }
   ],
   "source": [
    "a.flip_card()\n",
    "a.played_card"
   ]
  },
  {
   "cell_type": "code",
   "execution_count": 138,
   "metadata": {},
   "outputs": [],
   "source": [
    "# test mcts"
   ]
  },
  {
   "cell_type": "code",
   "execution_count": 12,
   "metadata": {},
   "outputs": [],
   "source": [
    "nothanks = game()\n",
    "game_node = game_state(game = nothanks)\n",
    "tree = mcts()"
   ]
  },
  {
   "cell_type": "code",
   "execution_count": 13,
   "metadata": {},
   "outputs": [],
   "source": [
    "for child in game_node.child:\n",
    "    print(f'move: {child[0]} | win pct: {child[-1].calculate_uct()}')"
   ]
  },
  {
   "cell_type": "code",
   "execution_count": 14,
   "metadata": {},
   "outputs": [
    {
     "name": "stdout",
     "output_type": "stream",
     "text": [
      "Current card: 4 | Played cards: [4]\n"
     ]
    },
    {
     "name": "stderr",
     "output_type": "stream",
     "text": [
      "100%|██████████| 50/50 [00:06<00:00,  7.80it/s]\n"
     ]
    },
    {
     "name": "stdout",
     "output_type": "stream",
     "text": [
      "Card: 4 | Chip in pot: 0 | Player: 0 - Chip: 11 | Card owned: []\n",
      "move: pass\n"
     ]
    },
    {
     "name": "stderr",
     "output_type": "stream",
     "text": [
      "100%|██████████| 50/50 [00:06<00:00,  7.88it/s]\n"
     ]
    },
    {
     "name": "stdout",
     "output_type": "stream",
     "text": [
      "Card: 4 | Chip in pot: 1 | Player: 1 - Chip: 11 | Card owned: []\n",
      "move: pass\n"
     ]
    },
    {
     "name": "stderr",
     "output_type": "stream",
     "text": [
      "100%|██████████| 50/50 [00:06<00:00,  7.67it/s]\n"
     ]
    },
    {
     "name": "stdout",
     "output_type": "stream",
     "text": [
      "Card: 4 | Chip in pot: 2 | Player: 2 - Chip: 11 | Card owned: []\n",
      "move: pass\n"
     ]
    },
    {
     "name": "stderr",
     "output_type": "stream",
     "text": [
      "100%|██████████| 50/50 [00:06<00:00,  7.92it/s]\n"
     ]
    },
    {
     "name": "stdout",
     "output_type": "stream",
     "text": [
      "Card: 4 | Chip in pot: 3 | Player: 0 - Chip: 10 | Card owned: []\n",
      "move: take\n"
     ]
    },
    {
     "name": "stderr",
     "output_type": "stream",
     "text": [
      "100%|██████████| 50/50 [00:06<00:00,  8.09it/s]\n"
     ]
    },
    {
     "name": "stdout",
     "output_type": "stream",
     "text": [
      "Card: 10 | Chip in pot: 0 | Player: 0 - Chip: 13 | Card owned: [4]\n",
      "move: pass\n"
     ]
    },
    {
     "name": "stderr",
     "output_type": "stream",
     "text": [
      "100%|██████████| 50/50 [00:06<00:00,  8.18it/s]\n"
     ]
    },
    {
     "name": "stdout",
     "output_type": "stream",
     "text": [
      "Card: 10 | Chip in pot: 1 | Player: 1 - Chip: 10 | Card owned: []\n",
      "move: take\n"
     ]
    },
    {
     "name": "stderr",
     "output_type": "stream",
     "text": [
      "100%|██████████| 50/50 [00:05<00:00,  8.53it/s]\n"
     ]
    },
    {
     "name": "stdout",
     "output_type": "stream",
     "text": [
      "Card: 20 | Chip in pot: 0 | Player: 1 - Chip: 11 | Card owned: [10]\n",
      "move: take\n"
     ]
    },
    {
     "name": "stderr",
     "output_type": "stream",
     "text": [
      "100%|██████████| 50/50 [00:05<00:00,  8.82it/s]\n"
     ]
    },
    {
     "name": "stdout",
     "output_type": "stream",
     "text": [
      "Card: 30 | Chip in pot: 0 | Player: 1 - Chip: 11 | Card owned: [10, 20]\n",
      "move: pass\n"
     ]
    },
    {
     "name": "stderr",
     "output_type": "stream",
     "text": [
      "100%|██████████| 50/50 [00:05<00:00,  8.61it/s]\n"
     ]
    },
    {
     "name": "stdout",
     "output_type": "stream",
     "text": [
      "Card: 30 | Chip in pot: 1 | Player: 2 - Chip: 10 | Card owned: []\n",
      "move: pass\n"
     ]
    },
    {
     "name": "stderr",
     "output_type": "stream",
     "text": [
      "100%|██████████| 50/50 [00:05<00:00,  8.61it/s]\n"
     ]
    },
    {
     "name": "stdout",
     "output_type": "stream",
     "text": [
      "Card: 30 | Chip in pot: 2 | Player: 0 - Chip: 12 | Card owned: [4]\n",
      "move: pass\n"
     ]
    },
    {
     "name": "stderr",
     "output_type": "stream",
     "text": [
      "100%|██████████| 50/50 [00:05<00:00,  8.44it/s]\n"
     ]
    },
    {
     "name": "stdout",
     "output_type": "stream",
     "text": [
      "Card: 30 | Chip in pot: 3 | Player: 1 - Chip: 10 | Card owned: [10, 20]\n",
      "move: pass\n"
     ]
    },
    {
     "name": "stderr",
     "output_type": "stream",
     "text": [
      "100%|██████████| 50/50 [00:05<00:00,  8.60it/s]\n"
     ]
    },
    {
     "name": "stdout",
     "output_type": "stream",
     "text": [
      "Card: 30 | Chip in pot: 4 | Player: 2 - Chip: 9 | Card owned: []\n",
      "move: pass\n"
     ]
    },
    {
     "name": "stderr",
     "output_type": "stream",
     "text": [
      "100%|██████████| 50/50 [00:05<00:00,  8.52it/s]\n"
     ]
    },
    {
     "name": "stdout",
     "output_type": "stream",
     "text": [
      "Card: 30 | Chip in pot: 5 | Player: 0 - Chip: 11 | Card owned: [4]\n",
      "move: pass\n"
     ]
    },
    {
     "name": "stderr",
     "output_type": "stream",
     "text": [
      "100%|██████████| 50/50 [00:05<00:00,  8.57it/s]\n"
     ]
    },
    {
     "name": "stdout",
     "output_type": "stream",
     "text": [
      "Card: 30 | Chip in pot: 6 | Player: 1 - Chip: 9 | Card owned: [10, 20]\n",
      "move: take\n"
     ]
    },
    {
     "name": "stderr",
     "output_type": "stream",
     "text": [
      "100%|██████████| 50/50 [00:05<00:00,  8.93it/s]\n"
     ]
    },
    {
     "name": "stdout",
     "output_type": "stream",
     "text": [
      "Card: 32 | Chip in pot: 0 | Player: 1 - Chip: 15 | Card owned: [10, 20, 30]\n",
      "move: pass\n"
     ]
    },
    {
     "name": "stderr",
     "output_type": "stream",
     "text": [
      "100%|██████████| 50/50 [00:05<00:00,  8.74it/s]\n"
     ]
    },
    {
     "name": "stdout",
     "output_type": "stream",
     "text": [
      "Card: 32 | Chip in pot: 1 | Player: 2 - Chip: 8 | Card owned: []\n",
      "move: pass\n"
     ]
    },
    {
     "name": "stderr",
     "output_type": "stream",
     "text": [
      "100%|██████████| 50/50 [00:05<00:00,  8.94it/s]\n"
     ]
    },
    {
     "name": "stdout",
     "output_type": "stream",
     "text": [
      "Card: 32 | Chip in pot: 2 | Player: 0 - Chip: 10 | Card owned: [4]\n",
      "move: pass\n"
     ]
    },
    {
     "name": "stderr",
     "output_type": "stream",
     "text": [
      "100%|██████████| 50/50 [00:05<00:00,  8.84it/s]\n"
     ]
    },
    {
     "name": "stdout",
     "output_type": "stream",
     "text": [
      "Card: 32 | Chip in pot: 3 | Player: 1 - Chip: 14 | Card owned: [10, 20, 30]\n",
      "move: pass\n"
     ]
    },
    {
     "name": "stderr",
     "output_type": "stream",
     "text": [
      "100%|██████████| 50/50 [00:05<00:00,  9.04it/s]\n"
     ]
    },
    {
     "name": "stdout",
     "output_type": "stream",
     "text": [
      "Card: 32 | Chip in pot: 4 | Player: 2 - Chip: 7 | Card owned: []\n",
      "move: pass\n"
     ]
    },
    {
     "name": "stderr",
     "output_type": "stream",
     "text": [
      "100%|██████████| 50/50 [00:05<00:00,  8.97it/s]\n"
     ]
    },
    {
     "name": "stdout",
     "output_type": "stream",
     "text": [
      "Card: 32 | Chip in pot: 5 | Player: 0 - Chip: 9 | Card owned: [4]\n",
      "move: pass\n"
     ]
    },
    {
     "name": "stderr",
     "output_type": "stream",
     "text": [
      "100%|██████████| 50/50 [00:05<00:00,  9.14it/s]\n"
     ]
    },
    {
     "name": "stdout",
     "output_type": "stream",
     "text": [
      "Card: 32 | Chip in pot: 6 | Player: 1 - Chip: 13 | Card owned: [10, 20, 30]\n",
      "move: take\n"
     ]
    },
    {
     "name": "stderr",
     "output_type": "stream",
     "text": [
      "100%|██████████| 50/50 [00:05<00:00,  9.31it/s]\n"
     ]
    },
    {
     "name": "stdout",
     "output_type": "stream",
     "text": [
      "Card: 29 | Chip in pot: 0 | Player: 1 - Chip: 19 | Card owned: [10, 20, 30, 32]\n",
      "move: pass\n"
     ]
    },
    {
     "name": "stderr",
     "output_type": "stream",
     "text": [
      "100%|██████████| 50/50 [00:05<00:00,  9.52it/s]\n"
     ]
    },
    {
     "name": "stdout",
     "output_type": "stream",
     "text": [
      "Card: 29 | Chip in pot: 1 | Player: 2 - Chip: 6 | Card owned: []\n",
      "move: pass\n"
     ]
    },
    {
     "name": "stderr",
     "output_type": "stream",
     "text": [
      "100%|██████████| 50/50 [00:05<00:00,  9.41it/s]\n"
     ]
    },
    {
     "name": "stdout",
     "output_type": "stream",
     "text": [
      "Card: 29 | Chip in pot: 2 | Player: 0 - Chip: 8 | Card owned: [4]\n",
      "move: pass\n"
     ]
    },
    {
     "name": "stderr",
     "output_type": "stream",
     "text": [
      "100%|██████████| 50/50 [00:05<00:00,  9.70it/s]\n"
     ]
    },
    {
     "name": "stdout",
     "output_type": "stream",
     "text": [
      "Card: 29 | Chip in pot: 3 | Player: 1 - Chip: 18 | Card owned: [10, 20, 30, 32]\n",
      "move: pass\n"
     ]
    },
    {
     "name": "stderr",
     "output_type": "stream",
     "text": [
      "100%|██████████| 50/50 [00:05<00:00,  9.42it/s]\n"
     ]
    },
    {
     "name": "stdout",
     "output_type": "stream",
     "text": [
      "Card: 29 | Chip in pot: 4 | Player: 2 - Chip: 5 | Card owned: []\n",
      "move: pass\n"
     ]
    },
    {
     "name": "stderr",
     "output_type": "stream",
     "text": [
      "100%|██████████| 50/50 [00:05<00:00,  9.72it/s]\n"
     ]
    },
    {
     "name": "stdout",
     "output_type": "stream",
     "text": [
      "Card: 29 | Chip in pot: 5 | Player: 0 - Chip: 7 | Card owned: [4]\n",
      "move: pass\n"
     ]
    },
    {
     "name": "stderr",
     "output_type": "stream",
     "text": [
      "100%|██████████| 50/50 [00:05<00:00,  9.71it/s]\n"
     ]
    },
    {
     "name": "stdout",
     "output_type": "stream",
     "text": [
      "Card: 29 | Chip in pot: 6 | Player: 1 - Chip: 17 | Card owned: [10, 20, 30, 32]\n",
      "move: take\n"
     ]
    },
    {
     "name": "stderr",
     "output_type": "stream",
     "text": [
      "100%|██████████| 50/50 [00:04<00:00, 10.47it/s]\n"
     ]
    },
    {
     "name": "stdout",
     "output_type": "stream",
     "text": [
      "Card: 3 | Chip in pot: 0 | Player: 1 - Chip: 23 | Card owned: [10, 20, 30, 32, 29]\n",
      "move: pass\n"
     ]
    },
    {
     "name": "stderr",
     "output_type": "stream",
     "text": [
      "100%|██████████| 50/50 [00:04<00:00, 10.01it/s]\n"
     ]
    },
    {
     "name": "stdout",
     "output_type": "stream",
     "text": [
      "Card: 3 | Chip in pot: 1 | Player: 2 - Chip: 4 | Card owned: []\n",
      "move: take\n"
     ]
    },
    {
     "name": "stderr",
     "output_type": "stream",
     "text": [
      "100%|██████████| 50/50 [00:04<00:00, 10.88it/s]\n"
     ]
    },
    {
     "name": "stdout",
     "output_type": "stream",
     "text": [
      "Card: 35 | Chip in pot: 0 | Player: 2 - Chip: 5 | Card owned: [3]\n",
      "move: pass\n"
     ]
    },
    {
     "name": "stderr",
     "output_type": "stream",
     "text": [
      "100%|██████████| 50/50 [00:04<00:00, 10.76it/s]\n"
     ]
    },
    {
     "name": "stdout",
     "output_type": "stream",
     "text": [
      "Card: 35 | Chip in pot: 1 | Player: 0 - Chip: 6 | Card owned: [4]\n",
      "move: pass\n"
     ]
    },
    {
     "name": "stderr",
     "output_type": "stream",
     "text": [
      "100%|██████████| 50/50 [00:04<00:00, 10.77it/s]\n"
     ]
    },
    {
     "name": "stdout",
     "output_type": "stream",
     "text": [
      "Card: 35 | Chip in pot: 2 | Player: 1 - Chip: 22 | Card owned: [10, 20, 30, 32, 29]\n",
      "move: pass\n"
     ]
    },
    {
     "name": "stderr",
     "output_type": "stream",
     "text": [
      "100%|██████████| 50/50 [00:04<00:00, 10.96it/s]\n"
     ]
    },
    {
     "name": "stdout",
     "output_type": "stream",
     "text": [
      "Card: 35 | Chip in pot: 3 | Player: 2 - Chip: 4 | Card owned: [3]\n",
      "move: pass\n"
     ]
    },
    {
     "name": "stderr",
     "output_type": "stream",
     "text": [
      "100%|██████████| 50/50 [00:04<00:00, 10.54it/s]\n"
     ]
    },
    {
     "name": "stdout",
     "output_type": "stream",
     "text": [
      "Card: 35 | Chip in pot: 4 | Player: 0 - Chip: 5 | Card owned: [4]\n",
      "move: pass\n"
     ]
    },
    {
     "name": "stderr",
     "output_type": "stream",
     "text": [
      "100%|██████████| 50/50 [00:04<00:00, 11.50it/s]\n"
     ]
    },
    {
     "name": "stdout",
     "output_type": "stream",
     "text": [
      "Card: 35 | Chip in pot: 5 | Player: 1 - Chip: 21 | Card owned: [10, 20, 30, 32, 29]\n",
      "move: pass\n"
     ]
    },
    {
     "name": "stderr",
     "output_type": "stream",
     "text": [
      "100%|██████████| 50/50 [00:04<00:00, 11.37it/s]\n"
     ]
    },
    {
     "name": "stdout",
     "output_type": "stream",
     "text": [
      "Card: 35 | Chip in pot: 6 | Player: 2 - Chip: 3 | Card owned: [3]\n",
      "move: pass\n"
     ]
    },
    {
     "name": "stderr",
     "output_type": "stream",
     "text": [
      "100%|██████████| 50/50 [00:04<00:00, 11.00it/s]\n"
     ]
    },
    {
     "name": "stdout",
     "output_type": "stream",
     "text": [
      "Card: 35 | Chip in pot: 7 | Player: 0 - Chip: 4 | Card owned: [4]\n",
      "move: pass\n"
     ]
    },
    {
     "name": "stderr",
     "output_type": "stream",
     "text": [
      "100%|██████████| 50/50 [00:04<00:00, 10.57it/s]\n"
     ]
    },
    {
     "name": "stdout",
     "output_type": "stream",
     "text": [
      "Card: 35 | Chip in pot: 8 | Player: 1 - Chip: 20 | Card owned: [10, 20, 30, 32, 29]\n",
      "move: pass\n"
     ]
    },
    {
     "name": "stderr",
     "output_type": "stream",
     "text": [
      "100%|██████████| 50/50 [00:04<00:00, 10.94it/s]\n"
     ]
    },
    {
     "name": "stdout",
     "output_type": "stream",
     "text": [
      "Card: 35 | Chip in pot: 9 | Player: 2 - Chip: 2 | Card owned: [3]\n",
      "move: pass\n"
     ]
    },
    {
     "name": "stderr",
     "output_type": "stream",
     "text": [
      "100%|██████████| 50/50 [00:04<00:00, 12.34it/s]\n"
     ]
    },
    {
     "name": "stdout",
     "output_type": "stream",
     "text": [
      "Card: 35 | Chip in pot: 10 | Player: 0 - Chip: 3 | Card owned: [4]\n",
      "move: pass\n"
     ]
    },
    {
     "name": "stderr",
     "output_type": "stream",
     "text": [
      "100%|██████████| 50/50 [00:04<00:00, 11.50it/s]\n"
     ]
    },
    {
     "name": "stdout",
     "output_type": "stream",
     "text": [
      "Card: 35 | Chip in pot: 11 | Player: 1 - Chip: 19 | Card owned: [10, 20, 30, 32, 29]\n",
      "move: pass\n"
     ]
    },
    {
     "name": "stderr",
     "output_type": "stream",
     "text": [
      "100%|██████████| 50/50 [00:04<00:00, 11.29it/s]\n"
     ]
    },
    {
     "name": "stdout",
     "output_type": "stream",
     "text": [
      "Card: 35 | Chip in pot: 12 | Player: 2 - Chip: 1 | Card owned: [3]\n",
      "move: take\n"
     ]
    },
    {
     "name": "stderr",
     "output_type": "stream",
     "text": [
      "100%|██████████| 50/50 [00:04<00:00, 11.74it/s]\n"
     ]
    },
    {
     "name": "stdout",
     "output_type": "stream",
     "text": [
      "Card: 11 | Chip in pot: 0 | Player: 2 - Chip: 13 | Card owned: [3, 35]\n",
      "move: pass\n"
     ]
    },
    {
     "name": "stderr",
     "output_type": "stream",
     "text": [
      "100%|██████████| 50/50 [00:04<00:00, 10.39it/s]\n"
     ]
    },
    {
     "name": "stdout",
     "output_type": "stream",
     "text": [
      "Card: 11 | Chip in pot: 1 | Player: 0 - Chip: 2 | Card owned: [4]\n",
      "move: pass\n"
     ]
    },
    {
     "name": "stderr",
     "output_type": "stream",
     "text": [
      "100%|██████████| 50/50 [00:04<00:00, 11.99it/s]\n"
     ]
    },
    {
     "name": "stdout",
     "output_type": "stream",
     "text": [
      "Card: 11 | Chip in pot: 2 | Player: 1 - Chip: 18 | Card owned: [10, 20, 30, 32, 29]\n",
      "move: take\n"
     ]
    },
    {
     "name": "stderr",
     "output_type": "stream",
     "text": [
      "100%|██████████| 50/50 [00:04<00:00, 11.92it/s]\n"
     ]
    },
    {
     "name": "stdout",
     "output_type": "stream",
     "text": [
      "Card: 13 | Chip in pot: 0 | Player: 1 - Chip: 20 | Card owned: [10, 20, 30, 32, 29, 11]\n",
      "move: pass\n"
     ]
    },
    {
     "name": "stderr",
     "output_type": "stream",
     "text": [
      "100%|██████████| 50/50 [00:03<00:00, 12.57it/s]\n"
     ]
    },
    {
     "name": "stdout",
     "output_type": "stream",
     "text": [
      "Card: 13 | Chip in pot: 1 | Player: 2 - Chip: 12 | Card owned: [3, 35]\n",
      "move: pass\n"
     ]
    },
    {
     "name": "stderr",
     "output_type": "stream",
     "text": [
      "100%|██████████| 50/50 [00:03<00:00, 13.29it/s]\n"
     ]
    },
    {
     "name": "stdout",
     "output_type": "stream",
     "text": [
      "Card: 13 | Chip in pot: 2 | Player: 0 - Chip: 1 | Card owned: [4]\n",
      "move: take\n"
     ]
    },
    {
     "name": "stderr",
     "output_type": "stream",
     "text": [
      "100%|██████████| 50/50 [00:03<00:00, 12.68it/s]\n"
     ]
    },
    {
     "name": "stdout",
     "output_type": "stream",
     "text": [
      "Card: 5 | Chip in pot: 0 | Player: 0 - Chip: 3 | Card owned: [4, 13]\n",
      "move: pass\n"
     ]
    },
    {
     "name": "stderr",
     "output_type": "stream",
     "text": [
      "100%|██████████| 50/50 [00:03<00:00, 13.32it/s]\n"
     ]
    },
    {
     "name": "stdout",
     "output_type": "stream",
     "text": [
      "Card: 5 | Chip in pot: 1 | Player: 1 - Chip: 19 | Card owned: [10, 20, 30, 32, 29, 11]\n",
      "move: take\n"
     ]
    },
    {
     "name": "stderr",
     "output_type": "stream",
     "text": [
      "100%|██████████| 50/50 [00:03<00:00, 15.55it/s]\n"
     ]
    },
    {
     "name": "stdout",
     "output_type": "stream",
     "text": [
      "Card: 6 | Chip in pot: 0 | Player: 1 - Chip: 20 | Card owned: [10, 20, 30, 32, 29, 11, 5]\n",
      "move: take\n"
     ]
    },
    {
     "name": "stderr",
     "output_type": "stream",
     "text": [
      "100%|██████████| 50/50 [00:03<00:00, 14.15it/s]\n"
     ]
    },
    {
     "name": "stdout",
     "output_type": "stream",
     "text": [
      "Card: 22 | Chip in pot: 0 | Player: 1 - Chip: 20 | Card owned: [10, 20, 30, 32, 29, 11, 5, 6]\n",
      "move: pass\n"
     ]
    },
    {
     "name": "stderr",
     "output_type": "stream",
     "text": [
      "100%|██████████| 50/50 [00:03<00:00, 14.02it/s]\n"
     ]
    },
    {
     "name": "stdout",
     "output_type": "stream",
     "text": [
      "Card: 22 | Chip in pot: 1 | Player: 2 - Chip: 11 | Card owned: [3, 35]\n",
      "move: pass\n"
     ]
    },
    {
     "name": "stderr",
     "output_type": "stream",
     "text": [
      "100%|██████████| 50/50 [00:03<00:00, 14.78it/s]\n"
     ]
    },
    {
     "name": "stdout",
     "output_type": "stream",
     "text": [
      "Card: 22 | Chip in pot: 2 | Player: 0 - Chip: 2 | Card owned: [4, 13]\n",
      "move: pass\n"
     ]
    },
    {
     "name": "stderr",
     "output_type": "stream",
     "text": [
      "100%|██████████| 50/50 [00:03<00:00, 14.39it/s]\n"
     ]
    },
    {
     "name": "stdout",
     "output_type": "stream",
     "text": [
      "Card: 22 | Chip in pot: 3 | Player: 1 - Chip: 19 | Card owned: [10, 20, 30, 32, 29, 11, 5, 6]\n",
      "move: pass\n"
     ]
    },
    {
     "name": "stderr",
     "output_type": "stream",
     "text": [
      "100%|██████████| 50/50 [00:03<00:00, 15.11it/s]\n"
     ]
    },
    {
     "name": "stdout",
     "output_type": "stream",
     "text": [
      "Card: 22 | Chip in pot: 4 | Player: 2 - Chip: 10 | Card owned: [3, 35]\n",
      "move: pass\n"
     ]
    },
    {
     "name": "stderr",
     "output_type": "stream",
     "text": [
      "100%|██████████| 50/50 [00:03<00:00, 15.08it/s]\n"
     ]
    },
    {
     "name": "stdout",
     "output_type": "stream",
     "text": [
      "Card: 22 | Chip in pot: 5 | Player: 0 - Chip: 1 | Card owned: [4, 13]\n",
      "move: take\n"
     ]
    },
    {
     "name": "stderr",
     "output_type": "stream",
     "text": [
      "100%|██████████| 50/50 [00:03<00:00, 15.45it/s]\n"
     ]
    },
    {
     "name": "stdout",
     "output_type": "stream",
     "text": [
      "Card: 28 | Chip in pot: 0 | Player: 0 - Chip: 6 | Card owned: [4, 13, 22]\n",
      "move: pass\n"
     ]
    },
    {
     "name": "stderr",
     "output_type": "stream",
     "text": [
      "100%|██████████| 50/50 [00:03<00:00, 14.86it/s]\n"
     ]
    },
    {
     "name": "stdout",
     "output_type": "stream",
     "text": [
      "Card: 28 | Chip in pot: 1 | Player: 1 - Chip: 18 | Card owned: [10, 20, 30, 32, 29, 11, 5, 6]\n",
      "move: take\n"
     ]
    },
    {
     "name": "stderr",
     "output_type": "stream",
     "text": [
      "100%|██████████| 50/50 [00:03<00:00, 16.18it/s]\n"
     ]
    },
    {
     "name": "stdout",
     "output_type": "stream",
     "text": [
      "Card: 16 | Chip in pot: 0 | Player: 1 - Chip: 19 | Card owned: [10, 20, 30, 32, 29, 11, 5, 6, 28]\n",
      "move: pass\n"
     ]
    },
    {
     "name": "stderr",
     "output_type": "stream",
     "text": [
      "100%|██████████| 50/50 [00:03<00:00, 15.91it/s]\n"
     ]
    },
    {
     "name": "stdout",
     "output_type": "stream",
     "text": [
      "Card: 16 | Chip in pot: 1 | Player: 2 - Chip: 9 | Card owned: [3, 35]\n",
      "move: pass\n"
     ]
    },
    {
     "name": "stderr",
     "output_type": "stream",
     "text": [
      "100%|██████████| 50/50 [00:03<00:00, 15.90it/s]\n"
     ]
    },
    {
     "name": "stdout",
     "output_type": "stream",
     "text": [
      "Card: 16 | Chip in pot: 2 | Player: 0 - Chip: 5 | Card owned: [4, 13, 22]\n",
      "move: pass\n"
     ]
    },
    {
     "name": "stderr",
     "output_type": "stream",
     "text": [
      "100%|██████████| 50/50 [00:03<00:00, 15.88it/s]\n"
     ]
    },
    {
     "name": "stdout",
     "output_type": "stream",
     "text": [
      "Card: 16 | Chip in pot: 3 | Player: 1 - Chip: 18 | Card owned: [10, 20, 30, 32, 29, 11, 5, 6, 28]\n",
      "move: pass\n"
     ]
    },
    {
     "name": "stderr",
     "output_type": "stream",
     "text": [
      "100%|██████████| 50/50 [00:03<00:00, 16.57it/s]\n"
     ]
    },
    {
     "name": "stdout",
     "output_type": "stream",
     "text": [
      "Card: 16 | Chip in pot: 4 | Player: 2 - Chip: 8 | Card owned: [3, 35]\n",
      "move: pass\n"
     ]
    },
    {
     "name": "stderr",
     "output_type": "stream",
     "text": [
      "100%|██████████| 50/50 [00:03<00:00, 16.01it/s]\n"
     ]
    },
    {
     "name": "stdout",
     "output_type": "stream",
     "text": [
      "Card: 16 | Chip in pot: 5 | Player: 0 - Chip: 4 | Card owned: [4, 13, 22]\n",
      "move: pass\n"
     ]
    },
    {
     "name": "stderr",
     "output_type": "stream",
     "text": [
      "100%|██████████| 50/50 [00:03<00:00, 16.46it/s]\n"
     ]
    },
    {
     "name": "stdout",
     "output_type": "stream",
     "text": [
      "Card: 16 | Chip in pot: 6 | Player: 1 - Chip: 17 | Card owned: [10, 20, 30, 32, 29, 11, 5, 6, 28]\n",
      "move: take\n"
     ]
    },
    {
     "name": "stderr",
     "output_type": "stream",
     "text": [
      "100%|██████████| 50/50 [00:02<00:00, 19.19it/s]\n"
     ]
    },
    {
     "name": "stdout",
     "output_type": "stream",
     "text": [
      "Card: 9 | Chip in pot: 0 | Player: 1 - Chip: 23 | Card owned: [10, 20, 30, 32, 29, 11, 5, 6, 28, 16]\n",
      "move: take\n"
     ]
    },
    {
     "name": "stderr",
     "output_type": "stream",
     "text": [
      "100%|██████████| 50/50 [00:02<00:00, 20.24it/s]\n"
     ]
    },
    {
     "name": "stdout",
     "output_type": "stream",
     "text": [
      "Card: 31 | Chip in pot: 0 | Player: 1 - Chip: 23 | Card owned: [10, 20, 30, 32, 29, 11, 5, 6, 28, 16, 9]\n",
      "move: take\n"
     ]
    },
    {
     "name": "stderr",
     "output_type": "stream",
     "text": [
      "100%|██████████| 50/50 [00:02<00:00, 22.30it/s]\n"
     ]
    },
    {
     "name": "stdout",
     "output_type": "stream",
     "text": [
      "Card: 19 | Chip in pot: 0 | Player: 1 - Chip: 23 | Card owned: [10, 20, 30, 32, 29, 11, 5, 6, 28, 16, 9, 31]\n",
      "move: pass\n"
     ]
    },
    {
     "name": "stderr",
     "output_type": "stream",
     "text": [
      "100%|██████████| 50/50 [00:02<00:00, 21.78it/s]\n"
     ]
    },
    {
     "name": "stdout",
     "output_type": "stream",
     "text": [
      "Card: 19 | Chip in pot: 1 | Player: 2 - Chip: 7 | Card owned: [3, 35]\n",
      "move: pass\n"
     ]
    },
    {
     "name": "stderr",
     "output_type": "stream",
     "text": [
      "100%|██████████| 50/50 [00:02<00:00, 23.23it/s]\n"
     ]
    },
    {
     "name": "stdout",
     "output_type": "stream",
     "text": [
      "Card: 19 | Chip in pot: 2 | Player: 0 - Chip: 3 | Card owned: [4, 13, 22]\n",
      "move: pass\n"
     ]
    },
    {
     "name": "stderr",
     "output_type": "stream",
     "text": [
      "100%|██████████| 50/50 [00:02<00:00, 24.09it/s]\n"
     ]
    },
    {
     "name": "stdout",
     "output_type": "stream",
     "text": [
      "Card: 19 | Chip in pot: 3 | Player: 1 - Chip: 22 | Card owned: [10, 20, 30, 32, 29, 11, 5, 6, 28, 16, 9, 31]\n",
      "move: pass\n"
     ]
    },
    {
     "name": "stderr",
     "output_type": "stream",
     "text": [
      "100%|██████████| 50/50 [00:02<00:00, 23.19it/s]\n"
     ]
    },
    {
     "name": "stdout",
     "output_type": "stream",
     "text": [
      "Card: 19 | Chip in pot: 4 | Player: 2 - Chip: 6 | Card owned: [3, 35]\n",
      "move: pass\n"
     ]
    },
    {
     "name": "stderr",
     "output_type": "stream",
     "text": [
      "100%|██████████| 50/50 [00:02<00:00, 24.90it/s]\n"
     ]
    },
    {
     "name": "stdout",
     "output_type": "stream",
     "text": [
      "Card: 19 | Chip in pot: 5 | Player: 0 - Chip: 2 | Card owned: [4, 13, 22]\n",
      "move: pass\n"
     ]
    },
    {
     "name": "stderr",
     "output_type": "stream",
     "text": [
      "100%|██████████| 50/50 [00:01<00:00, 25.10it/s]\n"
     ]
    },
    {
     "name": "stdout",
     "output_type": "stream",
     "text": [
      "Card: 19 | Chip in pot: 6 | Player: 1 - Chip: 21 | Card owned: [10, 20, 30, 32, 29, 11, 5, 6, 28, 16, 9, 31]\n",
      "move: take\n"
     ]
    },
    {
     "name": "stderr",
     "output_type": "stream",
     "text": [
      "100%|██████████| 50/50 [00:00<00:00, 86.96it/s]\n"
     ]
    },
    {
     "name": "stdout",
     "output_type": "stream",
     "text": [
      "Game over, no legal action\n",
      "Game over, no legal action\n",
      "Game over, no legal action\n",
      "Game over, no legal action\n",
      "Game over, no legal action\n",
      "Game over, no legal action\n",
      "Game over, no legal action\n",
      "Game over, no legal action\n",
      "Game over, no legal action\n",
      "Game over, no legal action\n",
      "Game over, no legal action\n",
      "Game over, no legal action\n",
      "Game over, no legal action\n",
      "Game over, no legal action\n",
      "Game over, no legal action\n",
      "Game over, no legal action\n",
      "Game over, no legal action\n",
      "Game over, no legal action\n",
      "Game over, no legal action\n",
      "Game over, no legal action\n",
      "Game over, no legal action\n",
      "Game over, no legal action\n",
      "Game over, no legal action\n",
      "Game over, no legal action\n",
      "Game over, no legal action\n",
      "Game over, no legal action\n",
      "Game over, no legal action\n",
      "Game over, no legal action\n",
      "Game over, no legal action\n",
      "Game over, no legal action\n",
      "Game over, no legal action\n",
      "Game over, no legal action\n",
      "Card: 15 | Chip in pot: 0 | Player: 1 - Chip: 27 | Card owned: [10, 20, 30, 32, 29, 11, 5, 6, 28, 16, 9, 31, 19]\n",
      "move: pass\n"
     ]
    },
    {
     "name": "stderr",
     "output_type": "stream",
     "text": [
      "100%|██████████| 50/50 [00:01<00:00, 29.36it/s]\n"
     ]
    },
    {
     "name": "stdout",
     "output_type": "stream",
     "text": [
      "Card: 15 | Chip in pot: 1 | Player: 2 - Chip: 5 | Card owned: [3, 35]\n",
      "move: pass\n"
     ]
    },
    {
     "name": "stderr",
     "output_type": "stream",
     "text": [
      "100%|██████████| 50/50 [00:01<00:00, 29.34it/s]\n"
     ]
    },
    {
     "name": "stdout",
     "output_type": "stream",
     "text": [
      "Card: 15 | Chip in pot: 2 | Player: 0 - Chip: 1 | Card owned: [4, 13, 22]\n",
      "move: pass\n"
     ]
    },
    {
     "name": "stderr",
     "output_type": "stream",
     "text": [
      "100%|██████████| 50/50 [00:01<00:00, 34.48it/s]\n"
     ]
    },
    {
     "name": "stdout",
     "output_type": "stream",
     "text": [
      "Card: 15 | Chip in pot: 3 | Player: 1 - Chip: 26 | Card owned: [10, 20, 30, 32, 29, 11, 5, 6, 28, 16, 9, 31, 19]\n",
      "move: take\n"
     ]
    },
    {
     "name": "stderr",
     "output_type": "stream",
     "text": [
      "100%|██████████| 50/50 [00:00<00:00, 98.32it/s]\n"
     ]
    },
    {
     "name": "stdout",
     "output_type": "stream",
     "text": [
      "Game over, no legal action\n",
      "Game over, no legal action\n",
      "Game over, no legal action\n",
      "Game over, no legal action\n",
      "Game over, no legal action\n",
      "Game over, no legal action\n",
      "Game over, no legal action\n",
      "Game over, no legal action\n",
      "Game over, no legal action\n",
      "Game over, no legal action\n",
      "Game over, no legal action\n",
      "Game over, no legal action\n",
      "Game over, no legal action\n",
      "Game over, no legal action\n",
      "Game over, no legal action\n",
      "Game over, no legal action\n",
      "Game over, no legal action\n",
      "Game over, no legal action\n",
      "Game over, no legal action\n",
      "Game over, no legal action\n",
      "Game over, no legal action\n",
      "Game over, no legal action\n",
      "Game over, no legal action\n",
      "Game over, no legal action\n",
      "Game over, no legal action\n",
      "Game over, no legal action\n",
      "Game over, no legal action\n",
      "Game over, no legal action\n",
      "Game over, no legal action\n",
      "Game over, no legal action\n",
      "Card: 27 | Chip in pot: 0 | Player: 1 - Chip: 29 | Card owned: [10, 20, 30, 32, 29, 11, 5, 6, 28, 16, 9, 31, 19, 15]\n",
      "move: pass\n"
     ]
    },
    {
     "name": "stderr",
     "output_type": "stream",
     "text": [
      "100%|██████████| 50/50 [00:00<00:00, 162.00it/s]\n"
     ]
    },
    {
     "name": "stdout",
     "output_type": "stream",
     "text": [
      "Game over, no legal action\n",
      "Game over, no legal action\n",
      "Game over, no legal action\n",
      "Game over, no legal action\n",
      "Game over, no legal action\n",
      "Game over, no legal action\n",
      "Game over, no legal action\n",
      "Game over, no legal action\n",
      "Game over, no legal action\n",
      "Game over, no legal action\n",
      "Game over, no legal action\n",
      "Game over, no legal action\n",
      "Game over, no legal action\n",
      "Game over, no legal action\n",
      "Game over, no legal action\n",
      "Game over, no legal action\n",
      "Game over, no legal action\n",
      "Game over, no legal action\n",
      "Game over, no legal action\n",
      "Game over, no legal action\n",
      "Game over, no legal action\n",
      "Game over, no legal action\n",
      "Game over, no legal action\n",
      "Game over, no legal action\n",
      "Game over, no legal action\n",
      "Game over, no legal action\n",
      "Game over, no legal action\n",
      "Game over, no legal action\n",
      "Game over, no legal action\n",
      "Game over, no legal action\n",
      "Game over, no legal action\n",
      "Game over, no legal action\n",
      "Game over, no legal action\n",
      "Game over, no legal action\n",
      "Game over, no legal action\n",
      "Game over, no legal action\n",
      "Game over, no legal action\n",
      "Game over, no legal action\n",
      "Card: 27 | Chip in pot: 1 | Player: 2 - Chip: 4 | Card owned: [3, 35]\n",
      "move: take\n"
     ]
    },
    {
     "name": "stderr",
     "output_type": "stream",
     "text": [
      "100%|██████████| 50/50 [00:00<00:00, 125.67it/s]\n"
     ]
    },
    {
     "name": "stdout",
     "output_type": "stream",
     "text": [
      "Game over, no legal action\n",
      "Game over, no legal action\n",
      "Game over, no legal action\n",
      "Game over, no legal action\n",
      "Game over, no legal action\n",
      "Game over, no legal action\n",
      "Game over, no legal action\n",
      "Game over, no legal action\n",
      "Game over, no legal action\n",
      "Game over, no legal action\n",
      "Game over, no legal action\n",
      "Game over, no legal action\n",
      "Game over, no legal action\n",
      "Game over, no legal action\n",
      "Game over, no legal action\n",
      "Game over, no legal action\n",
      "Game over, no legal action\n",
      "Game over, no legal action\n",
      "Game over, no legal action\n",
      "Game over, no legal action\n",
      "Game over, no legal action\n",
      "Game over, no legal action\n",
      "Game over, no legal action\n",
      "Game over, no legal action\n",
      "Game over, no legal action\n",
      "Game over, no legal action\n",
      "Game over, no legal action\n",
      "Game over, no legal action\n",
      "Game over, no legal action\n",
      "Game over, no legal action\n",
      "Game over, no legal action\n",
      "Game over, no legal action\n",
      "Card: 17 | Chip in pot: 0 | Player: 2 - Chip: 5 | Card owned: [3, 35, 27]\n",
      "move: take\n"
     ]
    },
    {
     "name": "stderr",
     "output_type": "stream",
     "text": [
      "100%|██████████| 50/50 [00:00<00:00, 212.21it/s]\n"
     ]
    },
    {
     "name": "stdout",
     "output_type": "stream",
     "text": [
      "Game over, no legal action\n",
      "Game over, no legal action\n",
      "Game over, no legal action\n",
      "Game over, no legal action\n",
      "Game over, no legal action\n",
      "Game over, no legal action\n",
      "Game over, no legal action\n",
      "Game over, no legal action\n",
      "Game over, no legal action\n",
      "Game over, no legal action\n",
      "Game over, no legal action\n",
      "Game over, no legal action\n",
      "Game over, no legal action\n",
      "Game over, no legal action\n",
      "Game over, no legal action\n",
      "Game over, no legal action\n",
      "Game over, no legal action\n",
      "Game over, no legal action\n",
      "Game over, no legal action\n",
      "Game over, no legal action\n",
      "Game over, no legal action\n",
      "Game over, no legal action\n",
      "Game over, no legal action\n",
      "Game over, no legal action\n",
      "Game over, no legal action\n",
      "Game over, no legal action\n",
      "Game over, no legal action\n",
      "Game over, no legal action\n",
      "Game over, no legal action\n",
      "Game over, no legal action\n",
      "Game over, no legal action\n",
      "Game over, no legal action\n",
      "Game over, no legal action\n",
      "Game over, no legal action\n",
      "Game over, no legal action\n",
      "Game over, no legal action\n",
      "Game over, no legal action\n",
      "Game over, no legal action\n",
      "Game over, no legal action\n",
      "Card: 26 | Chip in pot: 0 | Player: 2 - Chip: 5 | Card owned: [3, 35, 27, 17]\n",
      "move: pass\n"
     ]
    },
    {
     "name": "stderr",
     "output_type": "stream",
     "text": [
      "100%|██████████| 50/50 [00:00<00:00, 781.26it/s]\n"
     ]
    },
    {
     "name": "stdout",
     "output_type": "stream",
     "text": [
      "Game over, no legal action\n",
      "Game over, no legal action\n",
      "Game over, no legal action\n",
      "Game over, no legal action\n",
      "Game over, no legal action\n",
      "Game over, no legal action\n",
      "Game over, no legal action\n",
      "Game over, no legal action\n",
      "Game over, no legal action\n",
      "Game over, no legal action\n",
      "Game over, no legal action\n",
      "Game over, no legal action\n",
      "Game over, no legal action\n",
      "Game over, no legal action\n",
      "Game over, no legal action\n",
      "Game over, no legal action\n",
      "Game over, no legal action\n",
      "Game over, no legal action\n",
      "Game over, no legal action\n",
      "Game over, no legal action\n",
      "Game over, no legal action\n",
      "Game over, no legal action\n",
      "Game over, no legal action\n",
      "Game over, no legal action\n",
      "Game over, no legal action\n",
      "Game over, no legal action\n",
      "Game over, no legal action\n",
      "Game over, no legal action\n",
      "Game over, no legal action\n",
      "Game over, no legal action\n",
      "Game over, no legal action\n",
      "Game over, no legal action\n",
      "Game over, no legal action\n",
      "Game over, no legal action\n",
      "Game over, no legal action\n",
      "Game over, no legal action\n",
      "Game over, no legal action\n",
      "Game over, no legal action\n",
      "Game over, no legal action\n",
      "Game over, no legal action\n",
      "Game over, no legal action\n",
      "Game over, no legal action\n",
      "Game over, no legal action\n",
      "Game over, no legal action\n",
      "Game over, no legal action\n",
      "Game over, no legal action\n",
      "Game over, no legal action\n",
      "Card: 26 | Chip in pot: 1 | Player: 0 - Chip: 0 | Card owned: [4, 13, 22]\n",
      "move: take\n"
     ]
    },
    {
     "name": "stderr",
     "output_type": "stream",
     "text": [
      "100%|██████████| 50/50 [00:00<00:00, 476.17it/s]\n"
     ]
    },
    {
     "name": "stdout",
     "output_type": "stream",
     "text": [
      "Game over, no legal action\n",
      "Game over, no legal action\n",
      "Game over, no legal action\n",
      "Game over, no legal action\n",
      "Game over, no legal action\n",
      "Game over, no legal action\n",
      "Game over, no legal action\n",
      "Game over, no legal action\n",
      "Game over, no legal action\n",
      "Game over, no legal action\n",
      "Game over, no legal action\n",
      "Game over, no legal action\n",
      "Game over, no legal action\n",
      "Game over, no legal action\n",
      "Game over, no legal action\n",
      "Game over, no legal action\n",
      "Game over, no legal action\n",
      "Game over, no legal action\n",
      "Game over, no legal action\n",
      "Game over, no legal action\n",
      "Game over, no legal action\n",
      "Game over, no legal action\n",
      "Game over, no legal action\n",
      "Game over, no legal action\n",
      "Game over, no legal action\n",
      "Game over, no legal action\n",
      "Game over, no legal action\n",
      "Game over, no legal action\n",
      "Game over, no legal action\n",
      "Game over, no legal action\n",
      "Game over, no legal action\n",
      "Game over, no legal action\n",
      "Game over, no legal action\n",
      "Game over, no legal action\n",
      "Game over, no legal action\n",
      "Game over, no legal action\n",
      "Game over, no legal action\n",
      "Game over, no legal action\n",
      "Game over, no legal action\n",
      "Game over, no legal action\n",
      "Game over, no legal action\n",
      "Game over, no legal action\n",
      "Game over, no legal action\n",
      "Game over, no legal action\n",
      "Game over, no legal action\n",
      "Game over, no legal action\n",
      "Card: 25 | Chip in pot: 0 | Player: 0 - Chip: 1 | Card owned: [4, 13, 22, 26]\n",
      "move: pass\n"
     ]
    },
    {
     "name": "stderr",
     "output_type": "stream",
     "text": [
      "100%|██████████| 50/50 [00:00<00:00, 1020.39it/s]\n"
     ]
    },
    {
     "name": "stdout",
     "output_type": "stream",
     "text": [
      "Game over, no legal action\n",
      "Game over, no legal action\n",
      "Game over, no legal action\n",
      "Game over, no legal action\n",
      "Game over, no legal action\n",
      "Game over, no legal action\n",
      "Game over, no legal action\n",
      "Game over, no legal action\n",
      "Game over, no legal action\n",
      "Game over, no legal action\n",
      "Game over, no legal action\n",
      "Game over, no legal action\n",
      "Game over, no legal action\n",
      "Game over, no legal action\n",
      "Game over, no legal action\n",
      "Game over, no legal action\n",
      "Game over, no legal action\n",
      "Game over, no legal action\n",
      "Game over, no legal action\n",
      "Game over, no legal action\n",
      "Game over, no legal action\n",
      "Game over, no legal action\n",
      "Game over, no legal action\n",
      "Game over, no legal action\n",
      "Game over, no legal action\n",
      "Game over, no legal action\n",
      "Game over, no legal action\n",
      "Game over, no legal action\n",
      "Game over, no legal action\n",
      "Game over, no legal action\n",
      "Game over, no legal action\n",
      "Game over, no legal action\n",
      "Game over, no legal action\n",
      "Game over, no legal action\n",
      "Game over, no legal action\n",
      "Game over, no legal action\n",
      "Game over, no legal action\n",
      "Game over, no legal action\n",
      "Game over, no legal action\n",
      "Game over, no legal action\n",
      "Game over, no legal action\n",
      "Game over, no legal action\n",
      "Game over, no legal action\n",
      "Game over, no legal action\n",
      "Game over, no legal action\n",
      "Game over, no legal action\n",
      "Game over, no legal action\n",
      "Game over, no legal action\n",
      "Card: 25 | Chip in pot: 1 | Player: 1 - Chip: 28 | Card owned: [10, 20, 30, 32, 29, 11, 5, 6, 28, 16, 9, 31, 19, 15]\n",
      "move: take\n"
     ]
    },
    {
     "name": "stderr",
     "output_type": "stream",
     "text": [
      "100%|██████████| 50/50 [00:00<00:00, 2272.89it/s]"
     ]
    },
    {
     "name": "stdout",
     "output_type": "stream",
     "text": [
      "Game over, no legal action\n",
      "Game over, no legal action\n",
      "Game over, no legal action\n",
      "Game over, no legal action\n",
      "Game over, no legal action\n",
      "Game over, no legal action\n",
      "Game over, no legal action\n",
      "Game over, no legal action\n",
      "Game over, no legal action\n",
      "Game over, no legal action\n",
      "Game over, no legal action\n",
      "Game over, no legal action\n",
      "Game over, no legal action\n",
      "Game over, no legal action\n",
      "Game over, no legal action\n",
      "Game over, no legal action\n",
      "Game over, no legal action\n",
      "Game over, no legal action\n",
      "Game over, no legal action\n",
      "Game over, no legal action\n",
      "Game over, no legal action\n",
      "Game over, no legal action\n",
      "Game over, no legal action\n",
      "Game over, no legal action\n",
      "Game over, no legal action\n",
      "Game over, no legal action\n",
      "Game over, no legal action\n",
      "Game over, no legal action\n",
      "Game over, no legal action\n",
      "Game over, no legal action\n",
      "Game over, no legal action\n",
      "Game over, no legal action\n",
      "Game over, no legal action\n",
      "Game over, no legal action\n",
      "Game over, no legal action\n",
      "Game over, no legal action\n",
      "Game over, no legal action\n",
      "Game over, no legal action\n",
      "Game over, no legal action\n",
      "Game over, no legal action\n",
      "Game over, no legal action\n",
      "Game over, no legal action\n",
      "Game over, no legal action\n",
      "Game over, no legal action\n",
      "Game over, no legal action\n",
      "Game over, no legal action\n",
      "Game over, no legal action\n",
      "Game over, no legal action\n",
      "Game over, no legal action\n",
      "Card: 12 | Chip in pot: 0 | Player: 1 - Chip: 29 | Card owned: [10, 20, 30, 32, 29, 11, 5, 6, 28, 16, 9, 31, 19, 15, 25]\n",
      "move: take\n"
     ]
    },
    {
     "name": "stderr",
     "output_type": "stream",
     "text": [
      "\n"
     ]
    }
   ],
   "source": [
    "print(nothanks)\n",
    "while nothanks.is_continue:\n",
    "    for _ in tqdm(range(50)):\n",
    "        tree.selection(game_node= game_node)\n",
    "    move = game_node.get_best_move()\n",
    "    print(f'''Card: {nothanks.current_card} | Chip in pot: {nothanks.chip_in_pot} | Player: {nothanks.turn} - {nothanks.players[nothanks.turn]}\n",
    "move: {move}'''\n",
    ")\n",
    "    nothanks.action(move)\n",
    "    game_node = game_state(game = nothanks)"
   ]
  },
  {
   "cell_type": "code",
   "execution_count": 16,
   "metadata": {},
   "outputs": [
    {
     "data": {
      "text/plain": [
       "[1.0, 0.0, -1.0]"
      ]
     },
     "execution_count": 16,
     "metadata": {},
     "output_type": "execute_result"
    }
   ],
   "source": [
    "nothanks.calculate_ranking()"
   ]
  },
  {
   "cell_type": "code",
   "execution_count": 20,
   "metadata": {},
   "outputs": [
    {
     "name": "stdout",
     "output_type": "stream",
     "text": [
      "Chip: 0 | Card owned: [4, 13, 22, 26] -65\n",
      "Chip: 29 | Card owned: [10, 20, 30, 32, 29, 11, 5, 6, 28, 16, 9, 31, 19, 15, 25, 12] -72\n",
      "Chip: 4 | Card owned: [3, 35, 27, 17] -78\n"
     ]
    }
   ],
   "source": [
    "for user in nothanks.players:\n",
    "    print(user, user.calculate_score())"
   ]
  },
  {
   "cell_type": "code",
   "execution_count": null,
   "metadata": {},
   "outputs": [],
   "source": []
  }
 ],
 "metadata": {
  "kernelspec": {
   "display_name": "Python 3",
   "language": "python",
   "name": "python3"
  },
  "language_info": {
   "codemirror_mode": {
    "name": "ipython",
    "version": 3
   },
   "file_extension": ".py",
   "mimetype": "text/x-python",
   "name": "python",
   "nbconvert_exporter": "python",
   "pygments_lexer": "ipython3",
   "version": "3.8.10"
  }
 },
 "nbformat": 4,
 "nbformat_minor": 2
}
