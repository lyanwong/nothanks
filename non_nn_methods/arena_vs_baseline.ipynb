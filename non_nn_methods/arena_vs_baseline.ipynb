{
 "cells": [
  {
   "cell_type": "code",
   "execution_count": 2,
   "id": "ff951456",
   "metadata": {},
   "outputs": [],
   "source": [
    "from ppo_model import *\n",
    "from utils import *"
   ]
  },
  {
   "cell_type": "code",
   "execution_count": 3,
   "id": "2f189b26",
   "metadata": {},
   "outputs": [
    {
     "data": {
      "text/plain": [
       "<All keys matched successfully>"
      ]
     },
     "execution_count": 3,
     "metadata": {},
     "output_type": "execute_result"
    }
   ],
   "source": [
    "N_PLAYER = 3\n",
    "device = 'cuda' if torch.cuda.is_available() else 'cpu'\n",
    "\n",
    "path = f'./ppo_weight/model_gen_5_default_rwd_57_iter.pth'\n",
    "if 'gen_2' in path:\n",
    "    model = ppo_gen_2(N_PLAYER).to(device)\n",
    "elif 'gen_3' in path:\n",
    "    model = ppo_gen_3(N_PLAYER).to(device)\n",
    "    if 'gen_3_5' in path:\n",
    "        model.gen = 3.5\n",
    "elif 'gen_4' in path:\n",
    "    model = ppo_gen_4(N_PLAYER).to(device)\n",
    "elif 'gen_5' in path:\n",
    "    model = ppo_gen_5(N_PLAYER).to(device)\n",
    "    if 'gen_5_5' in path:\n",
    "        model.gen = 5.5   \n",
    "\n",
    "model.load_state_dict(torch.load(path,  map_location=torch.device('cpu')))"
   ]
  },
  {
   "cell_type": "code",
   "execution_count": 4,
   "id": "9e666005",
   "metadata": {},
   "outputs": [],
   "source": [
    "rank_dict = {\n",
    "    0: 3,\n",
    "    1: 2,\n",
    "    2: 1\n",
    "}\n"
   ]
  },
  {
   "cell_type": "code",
   "execution_count": null,
   "id": "a5342bb1",
   "metadata": {},
   "outputs": [],
   "source": [
    "n_game = 1000\n",
    "n_win = 0\n",
    "rank_list = []\n",
    "\n",
    "for _ in range(n_game):\n",
    "    nothanks = game()\n",
    "    ppo_turn = random.choice([0,1,2])\n",
    "    while nothanks.is_continue:\n",
    "        # print('------------------------------')\n",
    "        # print(f'''Card: {nothanks.current_card} | Chip in pot: {nothanks.chip_in_pot} | Player: {nothanks.turn} - {nothanks.players[nothanks.turn]}\\n''')\n",
    "        # print('------------------------------')\n",
    "        \n",
    "        if nothanks.turn == ppo_turn:\n",
    "            with torch.no_grad():\n",
    "                if model.gen == 2:\n",
    "                    current_state = torch.tensor(nothanks.encode_state_gen_2()).to(device)\n",
    "                elif model.gen == 3:\n",
    "                    current_state = torch.tensor(nothanks.encode_state_gen_3(nothanks.get_state)).to(device)\n",
    "                elif model.gen == 3.5:\n",
    "                    current_state = torch.tensor(nothanks.encode_state_gen_3(nothanks.get_state_gen_3_5)).to(device)\n",
    "                elif model.gen == 4:\n",
    "                    current_state = torch.tensor(nothanks.encode_state_gen_3(nothanks.get_state_gen_4)).to(device)\n",
    "                elif model.gen == 5:\n",
    "                    x_card, x_state = nothanks.encode_state_gen_5(nothanks.get_state)\n",
    "                    x_card = torch.tensor(x_card).float().unsqueeze(1)\n",
    "                    x_state = torch.tensor(x_state)\n",
    "                elif model.gen == 5.5:\n",
    "                    x_card, x_state = nothanks.encode_state_gen_5(nothanks.get_state_gen_3_5)\n",
    "                    x_card = torch.tensor(x_card).float().unsqueeze(1)\n",
    "                    x_state = torch.tensor(x_state)\n",
    "                    \n",
    "                legal_move = nothanks.get_legal_action() # a list \n",
    "                legal_move_mask = torch.tensor([False if move in legal_move else True for move in nothanks.move_encode.values()]).to(device)\n",
    "                if model.gen in [5, 5.5]:\n",
    "                    move_raw, log_prob, entropy, value = model.forward(x_card, x_state, legal_move_mask)\n",
    "                else:\n",
    "                    move_raw, log_prob, entropy, value = model.forward(current_state, legal_move_mask)\n",
    "                move = nothanks.move_encode.get(move_raw.item())\n",
    "        else :\n",
    "            move = nothanks.rollout_policy_3(p = 0.9)\n",
    "            # move = nothanks.rollout_policy_rule()\n",
    "\n",
    "        # print(f\"\"\"Move taken: {move}\\n\"\"\")\n",
    "        nothanks.action(move)\n",
    "        # game_node = game_state(turn = nothanks.turn)\n",
    "\n",
    "    game_result = nothanks.eval_rank()\n",
    "    winner_index = np.argmax(game_result)\n",
    "    \n",
    "    rank_list.append(rank_dict.get(game_result[ppo_turn]))\n",
    "    if winner_index == ppo_turn:\n",
    "        n_win += 1"
   ]
  },
  {
   "cell_type": "code",
   "execution_count": 15,
   "id": "c9bd5503",
   "metadata": {},
   "outputs": [
    {
     "name": "stdout",
     "output_type": "stream",
     "text": [
      "0.683\n"
     ]
    }
   ],
   "source": [
    "print(n_win/n_game)"
   ]
  },
  {
   "cell_type": "code",
   "execution_count": 17,
   "id": "fbca8df6",
   "metadata": {},
   "outputs": [
    {
     "data": {
      "text/plain": [
       "np.float64(1.348)"
      ]
     },
     "execution_count": 17,
     "metadata": {},
     "output_type": "execute_result"
    }
   ],
   "source": [
    "np.mean(rank_list)"
   ]
  }
 ],
 "metadata": {
  "kernelspec": {
   "display_name": "base",
   "language": "python",
   "name": "python3"
  },
  "language_info": {
   "codemirror_mode": {
    "name": "ipython",
    "version": 3
   },
   "file_extension": ".py",
   "mimetype": "text/x-python",
   "name": "python",
   "nbconvert_exporter": "python",
   "pygments_lexer": "ipython3",
   "version": "3.12.8"
  }
 },
 "nbformat": 4,
 "nbformat_minor": 5
}
